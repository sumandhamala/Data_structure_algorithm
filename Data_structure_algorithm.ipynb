{
 "cells": [
  {
   "cell_type": "code",
   "execution_count": 4,
   "metadata": {},
   "outputs": [
    {
     "name": "stdout",
     "output_type": "stream",
     "text": [
      "False\n"
     ]
    }
   ],
   "source": [
    "# Data Structue questions from Leetcode practise sets\n",
    "# Find duplicate in an array with Boolean logic\n",
    "\n",
    "array = [1, 2, 3, 4, 5, 6]\n",
    "my_array=[]\n",
    "def my_function(self):    \n",
    "    for elements in array:\n",
    "        if elements in my_array:\n",
    "            return True\n",
    "        else:\n",
    "            my_array.append(elements)\n",
    "    return False\n",
    "\n",
    "result = my_function(array)\n",
    "print(result)"
   ]
  },
  {
   "cell_type": "code",
   "execution_count": 12,
   "metadata": {},
   "outputs": [
    {
     "name": "stdout",
     "output_type": "stream",
     "text": [
      "[8]\n"
     ]
    }
   ],
   "source": [
    "#Given a non-empty array of integers, every element appears twice except for one. Find that single one.\n",
    "array = [1,2,1,3,2,3,5,5,8]\n",
    "my_array = []\n",
    "my_array1 = []\n",
    "for i in array:\n",
    "    if i not in my_array:\n",
    "        my_array.append(i)\n",
    "    else:\n",
    "        my_array1.append(i)\n",
    "\n",
    "result =  list(set(my_array) - set(my_array1))              \n",
    "print(result)       "
   ]
  },
  {
   "cell_type": "code",
   "execution_count": null,
   "metadata": {},
   "outputs": [],
   "source": [
    "#Buy and Sell STOCk with maximum profit\n",
    "price = [1, 2, 3, 4, 5]\n",
    "max_profit = 0.0\n",
    "min_price = price[0]\n",
    "for i in price:\n",
    "    min_price = min(min_price , i)\n",
    "    compare_profit = i- min_price\n",
    "    max_profit = max(max_profit, compare_profit)\n",
    "print(max_profit)\n",
    "    "
   ]
  },
  {
   "cell_type": "code",
   "execution_count": null,
   "metadata": {},
   "outputs": [],
   "source": [
    "# Avoid duplicate in a given array\n",
    "given_array = [1,1,2,3,4,2,8]\n",
    "duplicate_array = []\n",
    "for elements in given_array:\n",
    "    if elements not in duplicate_array:\n",
    "        duplicate_array.append(elements)\n",
    "print(duplicate_array)"
   ]
  },
  {
   "cell_type": "code",
   "execution_count": 38,
   "metadata": {},
   "outputs": [
    {
     "name": "stdout",
     "output_type": "stream",
     "text": [
      "No. of times to rotate a given array:3\n",
      "[3, 4, 5, 1, 2]\n"
     ]
    }
   ],
   "source": [
    "# Reverse an array given k times\n",
    "array = [1,2,3,4,5]\n",
    "length_array = len(array)\n",
    "k = int(input(\"No. of times to rotate a given array:\"))\n",
    "##################\n",
    "def my_func():\n",
    "    if k> length_array:\n",
    "        A = 'Input valid value of k less than ',length_array\n",
    "        return A\n",
    "    else:\n",
    "        array1 = array[-k:]+ array[:-k]\n",
    "        return array1\n",
    "result = my_func()\n",
    "print(result)\n",
    "\n",
    "        \n",
    "        "
   ]
  },
  {
   "cell_type": "code",
   "execution_count": 54,
   "metadata": {},
   "outputs": [
    {
     "data": {
      "text/plain": [
       "[9, 4]"
      ]
     },
     "execution_count": 54,
     "metadata": {},
     "output_type": "execute_result"
    }
   ],
   "source": [
    "#Intersection of Two Arrays\n",
    "#Example \n",
    "#Input: nums1 = [4,9,5], nums2 = [9,4,9,8,4]\n",
    "#Output: [4,9]\n",
    "###################################################\n",
    "#1)Brutal force solution with time complexity O(N^2)\n",
    "array1= [4,9,5]\n",
    "array2 = [9,4,9,8,4]\n",
    "# array3=[]\n",
    "# for i in array1:\n",
    "#     for j in array2:\n",
    "#         if i == j:\n",
    "#             array3.append(i)\n",
    "#             break\n",
    "# print(array3)\n",
    "##################################################\n",
    "#2) Using built in function: intersection \n",
    "# set_array1 = set(array1)\n",
    "# #print(set_array1)\n",
    "# set_intersection = set_array1.intersection(array2)\n",
    "# #print(set_intersection)\n",
    "# list_common = list(set_intersection)\n",
    "# print(list_common)\n",
    "#################################################\n",
    "#3) \n",
    "list(set(array2) & set(array1))"
   ]
  }
 ],
 "metadata": {
  "kernelspec": {
   "display_name": "Python 3",
   "language": "python",
   "name": "python3"
  },
  "language_info": {
   "codemirror_mode": {
    "name": "ipython",
    "version": 3
   },
   "file_extension": ".py",
   "mimetype": "text/x-python",
   "name": "python",
   "nbconvert_exporter": "python",
   "pygments_lexer": "ipython3",
   "version": "3.7.6"
  }
 },
 "nbformat": 4,
 "nbformat_minor": 4
}
