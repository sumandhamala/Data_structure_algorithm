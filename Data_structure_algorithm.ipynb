{
 "cells": [
  {
   "cell_type": "code",
   "execution_count": 4,
   "metadata": {},
   "outputs": [
    {
     "name": "stdout",
     "output_type": "stream",
     "text": [
      "False\n"
     ]
    }
   ],
   "source": [
    "# Data Structue questions from Leetcode practise sets\n",
    "# Find duplicate in an array with Boolean logic\n",
    "\n",
    "#### dir() gives all the method for the list, set, dictionaty....\n",
    "#dir(my_list) # gives the list of all the methods for list A\n",
    "#dir(my_set) #gives the list of all the methods for set\n",
    "# help(my_set.add)\n",
    "\n",
    "#######\n",
    "array = [1, 2, 3, 4, 5, 6]\n",
    "my_array=[]\n",
    "def my_function(self):    \n",
    "    for elements in array:\n",
    "        if elements in my_array:\n",
    "            return True\n",
    "        else:\n",
    "            my_array.append(elements)\n",
    "    return False\n",
    "\n",
    "result = my_function(array)\n",
    "print(result)"
   ]
  },
  {
   "cell_type": "code",
   "execution_count": 12,
   "metadata": {},
   "outputs": [
    {
     "name": "stdout",
     "output_type": "stream",
     "text": [
      "[8]\n"
     ]
    }
   ],
   "source": [
    "#Given a non-empty array of integers, every element appears twice except for one. Find that single one.\n",
    "array = [1,2,1,3,2,3,5,5,8]\n",
    "my_array = []\n",
    "my_array1 = []\n",
    "for i in array:\n",
    "    if i not in my_array:\n",
    "        my_array.append(i)\n",
    "    else:\n",
    "        my_array1.append(i)\n",
    "\n",
    "result =  list(set(my_array) - set(my_array1))              \n",
    "print(result)       "
   ]
  },
  {
   "cell_type": "code",
   "execution_count": null,
   "metadata": {},
   "outputs": [],
   "source": [
    "#Buy and Sell STOCk with maximum profit\n",
    "price = [1, 2, 3, 4, 5]\n",
    "max_profit = 0.0\n",
    "min_price = price[0]\n",
    "for i in price:\n",
    "    min_price = min(min_price , i)\n",
    "    compare_profit = i- min_price\n",
    "    max_profit = max(max_profit, compare_profit)\n",
    "print(max_profit)\n",
    "    "
   ]
  },
  {
   "cell_type": "code",
   "execution_count": null,
   "metadata": {},
   "outputs": [],
   "source": [
    "# Avoid duplicate in a given array\n",
    "given_array = [1,1,2,3,4,2,8]\n",
    "duplicate_array = []\n",
    "for elements in given_array:\n",
    "    if elements not in duplicate_array:\n",
    "        duplicate_array.append(elements)\n",
    "print(duplicate_array)"
   ]
  },
  {
   "cell_type": "code",
   "execution_count": 38,
   "metadata": {},
   "outputs": [
    {
     "name": "stdout",
     "output_type": "stream",
     "text": [
      "No. of times to rotate a given array:3\n",
      "[3, 4, 5, 1, 2]\n"
     ]
    }
   ],
   "source": [
    "# Reverse an array given k times\n",
    "array = [1,2,3,4,5]\n",
    "length_array = len(array)\n",
    "k = int(input(\"No. of times to rotate a given array:\"))\n",
    "##################\n",
    "def my_func():\n",
    "    if k> length_array:\n",
    "        A = 'Input valid value of k less than ',length_array\n",
    "        return A\n",
    "    else:\n",
    "        array1 = array[-k:]+ array[:-k]\n",
    "        return array1\n",
    "result = my_func()\n",
    "print(result)\n",
    "\n",
    "        \n",
    "        "
   ]
  },
  {
   "cell_type": "code",
   "execution_count": 1,
   "metadata": {},
   "outputs": [
    {
     "data": {
      "text/plain": [
       "[9, 4]"
      ]
     },
     "execution_count": 1,
     "metadata": {},
     "output_type": "execute_result"
    }
   ],
   "source": [
    "#Intersection of Two Arrays\n",
    "#Example \n",
    "#Input: nums1 = [4,9,5], nums2 = [9,4,9,8,4]\n",
    "#Output: [4,9]\n",
    "###################################################\n",
    "#1)Brutal force solution with time complexity O(N^2)\n",
    "array1= [4,9,5]\n",
    "array2 = [9,4,9,8,4]\n",
    "# array3=[]\n",
    "# for i in array1:\n",
    "#     for j in array2:\n",
    "#         if i == j:\n",
    "#             array3.append(i)\n",
    "#             break\n",
    "# print(array3)\n",
    "##################################################\n",
    "#2) Using built in function: intersection \n",
    "# set_array1 = set(array1)\n",
    "# #print(set_array1)\n",
    "# set_intersection = set_array1.intersection(array2)\n",
    "# #print(set_intersection)\n",
    "# list_common = list(set_intersection)\n",
    "# print(list_common)\n",
    "#################################################\n",
    "#3) \n",
    "list(set(array2) & set(array1))\n"
   ]
  },
  {
   "cell_type": "code",
   "execution_count": 13,
   "metadata": {},
   "outputs": [
    {
     "name": "stdout",
     "output_type": "stream",
     "text": [
      "{1, 2, 3, 4}\n"
     ]
    }
   ],
   "source": [
    "# Concept of SET \n",
    "#fruit_set = {\"apple\", \"banana\", \"cherry\"} # unordered and unindexed collection  written with curly brackets.\n",
    "## Once a set is created, you cannot change its items, but you can add new items as my_set.add('mango') \n",
    "## but item should be unique (set rejects duplicates).\n",
    "##Sets are unordered, so when using the pop() method, you will not know which item that gets removed.\n",
    "## Join Two Sets: using union()/set1.update(set2) such as set3 = set1.union(set2)\n",
    "## Find the difference in two set such as set3 = set1.difference(set2) / set4 = set1-set2\n",
    "\n",
    "## This is based on a data structure known as a hash table.\n",
    "## If Multiple values are present at the same index position, then the value is appended to that index position, \n",
    "## to form a Linked List. In, Python Sets are implemented using dictionary with dummy variables, where key beings \n",
    "## the members set with greater optimizations to the time complexity.\n",
    "\n",
    "my_set = set() # creates empty set\n",
    "my_set.add(1)\n",
    "print(my_set)\n",
    "my_set.add(2)\n",
    "print(my_set)\n",
    "# now if you add 1 again set will not take the duplicates \n",
    "my_set.add(1)\n",
    "print(my_set)\n",
    "####### Where can we use set? If you want to remove duplicates\n",
    "list = [1, 2, 3, 4, 1, 2, 3]\n",
    "my_set = set()\n",
    "for i in list:\n",
    "    my_set.add(i)\n",
    "print(my_set)"
   ]
  },
  {
   "cell_type": "code",
   "execution_count": 33,
   "metadata": {},
   "outputs": [
    {
     "name": "stdout",
     "output_type": "stream",
     "text": [
      "{1, 2, 3, 4}\n",
      "10\n",
      "Help on built-in function add:\n",
      "\n",
      "add(...) method of builtins.set instance\n",
      "    Add an element to a set.\n",
      "    \n",
      "    This has no effect if the element is already present.\n",
      "\n",
      "Help on built-in function intersection:\n",
      "\n",
      "intersection(...) method of builtins.set instance\n",
      "    Return the intersection of two sets as a new set.\n",
      "    \n",
      "    (i.e. all elements that are in both sets.)\n",
      "\n"
     ]
    }
   ],
   "source": [
    "# Find sum of unique elements in a list \n",
    "A = [1, 2, 3, 1,  2, 4]\n",
    "#output: 1+2+3+4=10\n",
    "\n",
    "# convert list to set\n",
    "my_set = set(A)\n",
    "print(my_set)\n",
    "sum = 0\n",
    "for element in my_set:\n",
    "    sum += element\n",
    "print(sum)\n",
    "# print(my_set[1]) set does not have index throws error as \" 'set' object is not subscriptable \"\n",
    "help(my_set.add)\n",
    "help(my_set.intersection)"
   ]
  },
  {
   "cell_type": "code",
   "execution_count": 37,
   "metadata": {},
   "outputs": [
    {
     "name": "stdout",
     "output_type": "stream",
     "text": [
      "['a', 'b', 'c', 'd']\n",
      "abcd\n"
     ]
    }
   ],
   "source": [
    "## Remove duplicates from a given string\n",
    "#For example: Input: string = 'abcda'\n",
    "#                Output: 'abcd'\n",
    "\n",
    "#######################################\n",
    "given_string = 'abcda'\n",
    "my_list = []\n",
    "\n",
    "for i in given_string:\n",
    "    if i not in my_list:\n",
    "        my_list.append(i)\n",
    "        \n",
    "print(my_list)\n",
    "print(''.join(my_list))\n",
    "\n"
   ]
  },
  {
   "cell_type": "code",
   "execution_count": 52,
   "metadata": {},
   "outputs": [
    {
     "name": "stdout",
     "output_type": "stream",
     "text": [
      "4\n",
      "[1, 2, 3, 4, 6]\n"
     ]
    }
   ],
   "source": [
    "#Given a non-empty array of digits representing a non-negative integer, increment one to the integer.\n",
    "#The digits are stored such that the most significant digit is at the head of the list, and each element in the array contains a single digit.\n",
    "# #For example: Input: given_array  = [1, 2, 3, 4, 5]\n",
    "#                Output: [1, 2, 3, 4, 6]\n",
    "\n",
    "###################\n",
    "#1) method\n",
    "\n",
    "given_array  = [1, 2, 3, 4, 5]\n",
    "length = len(given_array)\n",
    "print(array_length)\n",
    "for i in range(0, length):\n",
    "    if i == (length-1):\n",
    "        given_array[i] = given_array[i]+1\n",
    "    else:\n",
    "        given_array[i] = given_array[i]\n",
    "print(given_array)\n",
    "\n",
    "####################\n",
    "# 2) method using remove and append\n",
    "\n",
    "# a = given_array[-1]+1\n",
    "# given_array.remove(given_array[-1])\n",
    "# given_array.append(a)\n",
    "# print(given_array)\n",
    "\n"
   ]
  },
  {
   "cell_type": "code",
   "execution_count": 67,
   "metadata": {},
   "outputs": [
    {
     "name": "stdout",
     "output_type": "stream",
     "text": [
      "[0, 1, 0, 3, 12, 0]\n",
      "2 [1, 3, 12, 0, 0, 0]\n"
     ]
    }
   ],
   "source": [
    "# Given an array nums, write a function to move all 0's to the end of it while \n",
    "# maintaining the relative order of the non-zero elements.\n",
    "# Example:\n",
    "# Input: [0,1,0,3,12]\n",
    "# Output: [1,3,12,0,0]\n",
    "# Note:\n",
    "# You must do this in-place without making a copy of the array.\n",
    "# Minimize the total number of operations.\n",
    "###########################################\n",
    "given_array = [0,1,0,3,12,0]\n",
    "for i in given_array:\n",
    "    if i == 0:\n",
    "        given_array.remove(i)\n",
    "        given_array.append(i)\n",
    "print(j, given_array)\n",
    "\n",
    "#########################################\n",
    "# Two list of different length can be added in python \n",
    "# list1 = [1,2]\n",
    "# list2 = [1,2,3]\n",
    "# add = list2+list1\n",
    "# print(add)"
   ]
  },
  {
   "cell_type": "code",
   "execution_count": null,
   "metadata": {},
   "outputs": [],
   "source": []
  }
 ],
 "metadata": {
  "kernelspec": {
   "display_name": "Python 3",
   "language": "python",
   "name": "python3"
  },
  "language_info": {
   "codemirror_mode": {
    "name": "ipython",
    "version": 3
   },
   "file_extension": ".py",
   "mimetype": "text/x-python",
   "name": "python",
   "nbconvert_exporter": "python",
   "pygments_lexer": "ipython3",
   "version": "3.7.6"
  }
 },
 "nbformat": 4,
 "nbformat_minor": 4
}
